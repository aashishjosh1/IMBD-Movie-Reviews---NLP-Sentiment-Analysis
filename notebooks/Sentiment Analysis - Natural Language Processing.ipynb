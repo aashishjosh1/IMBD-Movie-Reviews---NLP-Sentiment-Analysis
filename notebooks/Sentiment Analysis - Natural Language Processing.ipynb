{
 "cells": [
  {
   "cell_type": "markdown",
   "id": "4c2ce4e8",
   "metadata": {},
   "source": [
    "<font size = \"8.5\" ><span style= \"font-family:Altone Trial\">Research Environment</span></font>"
   ]
  },
  {
   "cell_type": "markdown",
   "id": "0dba26fc",
   "metadata": {},
   "source": [
    "<font size = \"6.5\" ><span style= \"font-family:Altone Trial\">Data Science Workflow</span></font>"
   ]
  },
  {
   "cell_type": "markdown",
   "id": "49702323",
   "metadata": {},
   "source": [
    "<font size = \"3\" ><span style= \"font-family:Altone Trial\">1. Project Scope\n",
    "\n",
    "<font size = \"3\" ><span style= \"font-family:Altone Trial\">2. Data Gathering\n",
    "    \n",
    "<font size = \"3\" ><span style= \"font-family:Altone Trial\">3. Exploratory Data Analysis\n",
    "    \n",
    "<font size = \"3\" ><span style= \"font-family:Altone Trial\">4. Data Preprocessing\n",
    "\n",
    "<font size = \"3\" ><span style= \"font-family:Altone Trial\">5. Model Creation\n",
    "    \n",
    "<font size = \"3\" ><span style= \"font-family:Altone Trial\">6. Model Evaluation"
   ]
  },
  {
   "cell_type": "markdown",
   "id": "f7b25f8e",
   "metadata": {},
   "source": [
    "***"
   ]
  },
  {
   "cell_type": "markdown",
   "id": "077c554d",
   "metadata": {},
   "source": [
    "<font size = \"6.5\" ><span style= \"font-family:Altone Trial\">1. Project Scope</span></font>"
   ]
  },
  {
   "cell_type": "markdown",
   "id": "650f1f77",
   "metadata": {},
   "source": [
    "<font size = \"3\" ><span style= \"font-family:Altone Trial\">Overview:\n",
    "    \n",
    "    \n",
    "<font size = \"3\" ><span style= \"font-family:Altone Trial\">Sentiment analysis the process of classifying vast amounts of text data into several classes depending on the underlying tone of the text. These classes can be (but are not limited to) either positive, negative or neutral.\n",
    "    \n",
    "\n",
    "<font size = \"3\" ><span style= \"font-family:Altone Trial\">Business across various industries rely on sentiment analysis to derive actionable insights about their customers and devise strategies to ultimately increase revenue.\n",
    "    \n",
    "    \n",
    "<font size = \"3\" ><span style= \"font-family:Altone Trial\">This data mining application is based on natural language processing and hence, can be extrapolated across a variety of real-world use cases involving textual data such as spam email detection, analyzing customer reviews to devise retention strategies, conducting market research to improve customer satisfaction, brand management, data driven investment decisions for hedge funds etc. "
   ]
  },
  {
   "cell_type": "markdown",
   "id": "678c9e6c",
   "metadata": {},
   "source": [
    "<font size = \"3\" ><span style= \"font-family:Altone Trial\">Finalizing scope: \n",
    "\n",
    "<font size = \"3\" ><span style= \"font-family:Altone Trial\">To create a multipurpose text classification system (Machine Learning model) that can classify text into various classes."
   ]
  },
  {
   "cell_type": "markdown",
   "id": "aff9119a",
   "metadata": {},
   "source": [
    "<font size = \"3\" ><span style= \"font-family:Altone Trial\">Data requirements:\n",
    "    \n",
    "<font size = \"3\" ><span style= \"font-family:Altone Trial\">We will utilize the complete IMDB movie reviews dataset obtained from Kaggle to predict whether a movie review was positive or negative."
   ]
  },
  {
   "cell_type": "markdown",
   "id": "fa1a27e0",
   "metadata": {},
   "source": [
    "***"
   ]
  },
  {
   "cell_type": "markdown",
   "id": "89277ab6",
   "metadata": {},
   "source": [
    "<font size = \"6.5\" ><span style= \"font-family:Altone Trial\">2. Data Gathering</span></font>"
   ]
  },
  {
   "cell_type": "code",
   "execution_count": 2,
   "id": "5d8e5eb1",
   "metadata": {},
   "outputs": [],
   "source": [
    "#Importing required libraries\n",
    "import numpy as np\n",
    "import pandas as pd"
   ]
  },
  {
   "cell_type": "code",
   "execution_count": 3,
   "id": "cd5a0c4c",
   "metadata": {},
   "outputs": [],
   "source": [
    "#Importing the dataset\n",
    "dataset = pd.read_csv(r'C:\\Users\\aashi\\OneDrive\\Desktop\\Portfolio\\Sentiment Analysis - Natural Language Processing\\datasets\\labeledTrainData.tsv', delimiter = '\\t', quoting = 3)"
   ]
  },
  {
   "cell_type": "markdown",
   "id": "f96b9de3",
   "metadata": {},
   "source": [
    "***"
   ]
  },
  {
   "cell_type": "markdown",
   "id": "ea9960f2",
   "metadata": {},
   "source": [
    "<font size = \"6.5\" ><span style= \"font-family:Altone Trial\">3. Exploratory Data Analysis</span></font>"
   ]
  },
  {
   "cell_type": "code",
   "execution_count": 5,
   "id": "e5e53cf1",
   "metadata": {},
   "outputs": [],
   "source": [
    "#Importing required libraries\n",
    "import matplotlib.pyplot as plt\n",
    "import seaborn as sns"
   ]
  },
  {
   "cell_type": "code",
   "execution_count": 4,
   "id": "07e5aaa2",
   "metadata": {},
   "outputs": [
    {
     "data": {
      "text/html": [
       "<div>\n",
       "<style scoped>\n",
       "    .dataframe tbody tr th:only-of-type {\n",
       "        vertical-align: middle;\n",
       "    }\n",
       "\n",
       "    .dataframe tbody tr th {\n",
       "        vertical-align: top;\n",
       "    }\n",
       "\n",
       "    .dataframe thead th {\n",
       "        text-align: right;\n",
       "    }\n",
       "</style>\n",
       "<table border=\"1\" class=\"dataframe\">\n",
       "  <thead>\n",
       "    <tr style=\"text-align: right;\">\n",
       "      <th></th>\n",
       "      <th>id</th>\n",
       "      <th>sentiment</th>\n",
       "      <th>review</th>\n",
       "    </tr>\n",
       "  </thead>\n",
       "  <tbody>\n",
       "    <tr>\n",
       "      <th>0</th>\n",
       "      <td>\"5814_8\"</td>\n",
       "      <td>1</td>\n",
       "      <td>\"With all this stuff going down at the moment ...</td>\n",
       "    </tr>\n",
       "    <tr>\n",
       "      <th>1</th>\n",
       "      <td>\"2381_9\"</td>\n",
       "      <td>1</td>\n",
       "      <td>\"\\\"The Classic War of the Worlds\\\" by Timothy ...</td>\n",
       "    </tr>\n",
       "    <tr>\n",
       "      <th>2</th>\n",
       "      <td>\"7759_3\"</td>\n",
       "      <td>0</td>\n",
       "      <td>\"The film starts with a manager (Nicholas Bell...</td>\n",
       "    </tr>\n",
       "    <tr>\n",
       "      <th>3</th>\n",
       "      <td>\"3630_4\"</td>\n",
       "      <td>0</td>\n",
       "      <td>\"It must be assumed that those who praised thi...</td>\n",
       "    </tr>\n",
       "    <tr>\n",
       "      <th>4</th>\n",
       "      <td>\"9495_8\"</td>\n",
       "      <td>1</td>\n",
       "      <td>\"Superbly trashy and wondrously unpretentious ...</td>\n",
       "    </tr>\n",
       "  </tbody>\n",
       "</table>\n",
       "</div>"
      ],
      "text/plain": [
       "         id  sentiment                                             review\n",
       "0  \"5814_8\"          1  \"With all this stuff going down at the moment ...\n",
       "1  \"2381_9\"          1  \"\\\"The Classic War of the Worlds\\\" by Timothy ...\n",
       "2  \"7759_3\"          0  \"The film starts with a manager (Nicholas Bell...\n",
       "3  \"3630_4\"          0  \"It must be assumed that those who praised thi...\n",
       "4  \"9495_8\"          1  \"Superbly trashy and wondrously unpretentious ..."
      ]
     },
     "execution_count": 4,
     "metadata": {},
     "output_type": "execute_result"
    }
   ],
   "source": [
    "#Quick data check\n",
    "dataset.head()"
   ]
  },
  {
   "cell_type": "code",
   "execution_count": 5,
   "id": "afc209a0",
   "metadata": {},
   "outputs": [
    {
     "name": "stdout",
     "output_type": "stream",
     "text": [
      "<class 'pandas.core.frame.DataFrame'>\n",
      "RangeIndex: 25000 entries, 0 to 24999\n",
      "Data columns (total 3 columns):\n",
      " #   Column     Non-Null Count  Dtype \n",
      "---  ------     --------------  ----- \n",
      " 0   id         25000 non-null  object\n",
      " 1   sentiment  25000 non-null  int64 \n",
      " 2   review     25000 non-null  object\n",
      "dtypes: int64(1), object(2)\n",
      "memory usage: 586.1+ KB\n"
     ]
    }
   ],
   "source": [
    "#Checking datatypes\n",
    "dataset.info()"
   ]
  },
  {
   "cell_type": "code",
   "execution_count": 6,
   "id": "25f6d99d",
   "metadata": {},
   "outputs": [
    {
     "data": {
      "text/plain": [
       "id           0\n",
       "sentiment    0\n",
       "review       0\n",
       "dtype: int64"
      ]
     },
     "execution_count": 6,
     "metadata": {},
     "output_type": "execute_result"
    }
   ],
   "source": [
    "#Identifying missing data\n",
    "dataset.isna().sum()"
   ]
  },
  {
   "cell_type": "markdown",
   "id": "d36dcab1",
   "metadata": {},
   "source": [
    "<font size = \"3\" ><span style= \"font-family:Altone Trial\">No Missing Data</span></font>"
   ]
  },
  {
   "cell_type": "code",
   "execution_count": 7,
   "id": "8cd5fc8c",
   "metadata": {},
   "outputs": [
    {
     "data": {
      "text/html": [
       "<div>\n",
       "<style scoped>\n",
       "    .dataframe tbody tr th:only-of-type {\n",
       "        vertical-align: middle;\n",
       "    }\n",
       "\n",
       "    .dataframe tbody tr th {\n",
       "        vertical-align: top;\n",
       "    }\n",
       "\n",
       "    .dataframe thead th {\n",
       "        text-align: right;\n",
       "    }\n",
       "</style>\n",
       "<table border=\"1\" class=\"dataframe\">\n",
       "  <thead>\n",
       "    <tr style=\"text-align: right;\">\n",
       "      <th></th>\n",
       "      <th>id</th>\n",
       "      <th>sentiment</th>\n",
       "      <th>review</th>\n",
       "    </tr>\n",
       "  </thead>\n",
       "  <tbody>\n",
       "  </tbody>\n",
       "</table>\n",
       "</div>"
      ],
      "text/plain": [
       "Empty DataFrame\n",
       "Columns: [id, sentiment, review]\n",
       "Index: []"
      ]
     },
     "execution_count": 7,
     "metadata": {},
     "output_type": "execute_result"
    }
   ],
   "source": [
    "#Identifying duplicate rows\n",
    "dataset[dataset.duplicated()]"
   ]
  },
  {
   "cell_type": "markdown",
   "id": "47bfc2f6",
   "metadata": {},
   "source": [
    "<font size = \"3\" ><span style= \"font-family:Altone Trial\">No Duplicate Data</span></font>"
   ]
  },
  {
   "cell_type": "code",
   "execution_count": 6,
   "id": "06a604c9",
   "metadata": {},
   "outputs": [
    {
     "name": "stdout",
     "output_type": "stream",
     "text": [
      "1    12500\n",
      "0    12500\n",
      "Name: sentiment, dtype: int64\n"
     ]
    },
    {
     "data": {
      "image/png": "[encoded data removed]",
      "text/plain": [
       "<Figure size 432x288 with 1 Axes>"
      ]
     },
     "metadata": {},
     "output_type": "display_data"
    }
   ],
   "source": [
    "#inspecting dependent variable\n",
    "sns.set_style('white')\n",
    "print(dataset['sentiment'].value_counts())\n",
    "sns.countplot(x=dataset['sentiment'], color='#D7685F', saturation=1)\n",
    "plt.title('Inspecting dependent variable by class')\n",
    "plt.ylabel('# of movies')\n",
    "plt.show()"
   ]
  },
  {
   "cell_type": "markdown",
   "id": "1a3098af",
   "metadata": {},
   "source": [
    "<font size = \"3\" ><span style= \"font-family:Altone Trial\">Based on the plot above, we can conclude that there's no class imbalance in the data that could potentially skew the model results."
   ]
  },
  {
   "cell_type": "markdown",
   "id": "c1691f93",
   "metadata": {},
   "source": [
    "***"
   ]
  },
  {
   "cell_type": "markdown",
   "id": "c930aa47",
   "metadata": {},
   "source": [
    "<font size = \"6.5\" ><span style= \"font-family:Altone Trial\">4. Data Preprocessing</span></font>"
   ]
  },
  {
   "cell_type": "markdown",
   "id": "cb73ec14",
   "metadata": {},
   "source": [
    "<font size = \"5\" ><span style= \"font-family:Altone Trial\">Applying Natural Language Processing :</span></font>"
   ]
  },
  {
   "cell_type": "code",
   "execution_count": 9,
   "id": "3d6e8c01",
   "metadata": {},
   "outputs": [
    {
     "name": "stderr",
     "output_type": "stream",
     "text": [
      "[nltk_data] Downloading package stopwords to\n",
      "[nltk_data]     C:\\Users\\aashi\\AppData\\Roaming\\nltk_data...\n",
      "[nltk_data]   Package stopwords is already up-to-date!\n",
      "[nltk_data] Downloading package punkt to\n",
      "[nltk_data]     C:\\Users\\aashi\\AppData\\Roaming\\nltk_data...\n",
      "[nltk_data]   Package punkt is already up-to-date!\n"
     ]
    }
   ],
   "source": [
    "#import required libraries\n",
    "import re\n",
    "import nltk\n",
    "nltk.download('stopwords')\n",
    "nltk.download('punkt')\n",
    "from nltk.corpus import stopwords\n",
    "from nltk.tokenize import sent_tokenize,word_tokenize\n",
    "from nltk.stem.porter import PorterStemmer"
   ]
  },
  {
   "cell_type": "code",
   "execution_count": 10,
   "id": "46416b1d",
   "metadata": {},
   "outputs": [],
   "source": [
    "clean_data = []\n",
    "for i in range(0, 25000):\n",
    "    #removing non-letter character\n",
    "    review = re.sub('[^a-zA-Z]',' ', dataset['review'][i])\n",
    "    #converting to lower case letters\n",
    "    review = review.lower()\n",
    "    #tokenizing senetences/phrases\n",
    "    #we will first split the review into words as each review is in a string format right now\n",
    "    review = word_tokenize(review)\n",
    "    #stemming\n",
    "    ps = PorterStemmer()\n",
    "    #creating for loop to remove stop words\n",
    "    review = [ps.stem(word) for word in review if not word in set(stopwords.words('english'))]\n",
    "    #converting the review back to a string format\n",
    "    review = ' '.join(review)\n",
    "    clean_data.append(review)"
   ]
  },
  {
   "cell_type": "markdown",
   "id": "be9d4055",
   "metadata": {},
   "source": [
    "<font size = \"5\" ><span style= \"font-family:Altone Trial\">Pre-requisites for Bag Of Words model :</span></font>"
   ]
  },
  {
   "cell_type": "code",
   "execution_count": 12,
   "id": "56703395",
   "metadata": {},
   "outputs": [],
   "source": [
    "#import required libraries\n",
    "from sklearn.feature_extraction.text import CountVectorizer"
   ]
  },
  {
   "cell_type": "code",
   "execution_count": 13,
   "id": "70eab181",
   "metadata": {},
   "outputs": [],
   "source": [
    "#creating a Count vectorizer object for BOW model\n",
    "cv = CountVectorizer(max_features = 5000)"
   ]
  },
  {
   "cell_type": "code",
   "execution_count": 14,
   "id": "e3f17ef1",
   "metadata": {},
   "outputs": [],
   "source": [
    "#creating dataframes from target variable and features\n",
    "X = cv.fit_transform(clean_data).toarray()\n",
    "y = dataset['sentiment'].values"
   ]
  },
  {
   "cell_type": "markdown",
   "id": "7d3d98fb",
   "metadata": {},
   "source": [
    "<font size = \"5\" ><span style= \"font-family:Altone Trial\">Pre-requisites for a Tf-Idf model :</span></font>"
   ]
  },
  {
   "cell_type": "code",
   "execution_count": 15,
   "id": "b81fa9e0",
   "metadata": {},
   "outputs": [],
   "source": [
    "#import required libraries\n",
    "from sklearn.feature_extraction.text import TfidfVectorizer"
   ]
  },
  {
   "cell_type": "code",
   "execution_count": 16,
   "id": "b54f001b",
   "metadata": {},
   "outputs": [],
   "source": [
    "#creating an object for Tf-idf model\n",
    "tfidf = TfidfVectorizer()"
   ]
  },
  {
   "cell_type": "code",
   "execution_count": 17,
   "id": "0b6cfd44",
   "metadata": {},
   "outputs": [],
   "source": [
    "#creating dataframes from target variable and features\n",
    "X2 = tfidf.fit_transform(clean_data).toarray()\n",
    "y2 = dataset['sentiment'].values"
   ]
  },
  {
   "cell_type": "markdown",
   "id": "4262b3ac",
   "metadata": {},
   "source": [
    "<font size = \"5\" ><span style= \"font-family:Altone Trial\">Preparing the data for modelling :"
   ]
  },
  {
   "cell_type": "code",
   "execution_count": 18,
   "id": "3a904b13",
   "metadata": {},
   "outputs": [],
   "source": [
    "#importing required libraries\n",
    "from sklearn.model_selection import train_test_split"
   ]
  },
  {
   "cell_type": "code",
   "execution_count": 19,
   "id": "1b5dc152",
   "metadata": {},
   "outputs": [],
   "source": [
    "#Splitting the data into training and test sets for BOW model\n",
    "X_train, X_test, y_train, y_test = train_test_split(X, y, test_size = 0.2, random_state = 1)"
   ]
  },
  {
   "cell_type": "code",
   "execution_count": 20,
   "id": "16ba9f81",
   "metadata": {},
   "outputs": [],
   "source": [
    "#Splitting the data into training and test sets for Tf-Idf model\n",
    "X2_train, X2_test, y2_train, y2_test = train_test_split(X2, y2, test_size = 0.2, random_state = 1)"
   ]
  },
  {
   "cell_type": "markdown",
   "id": "a5c5e5e7",
   "metadata": {},
   "source": [
    "***"
   ]
  },
  {
   "cell_type": "markdown",
   "id": "abc78309",
   "metadata": {},
   "source": [
    "<font size = \"6.5\" ><span style= \"font-family:Altone Trial\">5. Model Creation</span></font>"
   ]
  },
  {
   "cell_type": "markdown",
   "id": "0db84713",
   "metadata": {},
   "source": [
    "<font size = \"5.5\" ><span style= \"font-family:Altone Trial\">5.1  Creating BOW Model :"
   ]
  },
  {
   "cell_type": "markdown",
   "id": "426622f3",
   "metadata": {},
   "source": [
    "<font size = \"5\" ><span style= \"font-family:Altone Trial\">Logistic Regression :"
   ]
  },
  {
   "cell_type": "code",
   "execution_count": 44,
   "id": "cba2c41e",
   "metadata": {},
   "outputs": [],
   "source": [
    "#Creating object 'lr' of LogisticRegression\n",
    "from sklearn.linear_model import LogisticRegression\n",
    "lr = LogisticRegression(max_iter=300)"
   ]
  },
  {
   "cell_type": "code",
   "execution_count": 45,
   "id": "96a849b3",
   "metadata": {},
   "outputs": [
    {
     "name": "stdout",
     "output_type": "stream",
     "text": [
      "Accuracy: 85.59 %\n",
      "Standard Deviation: 0.82 %\n"
     ]
    }
   ],
   "source": [
    "#Applying k-fold cross validation\n",
    "from sklearn.model_selection import cross_val_score\n",
    "accuracy_lr = cross_val_score(estimator=lr, X=X_train, y=y_train, cv=10, scoring='accuracy')\n",
    "print(\"Accuracy: {:.2f} %\".format(accuracy_lr.mean()*100))\n",
    "print(\"Standard Deviation: {:.2f} %\".format(accuracy_lr.std()*100))"
   ]
  },
  {
   "cell_type": "markdown",
   "id": "113e0428",
   "metadata": {},
   "source": [
    "<font size = \"5\" ><span style= \"font-family:Altone Trial\">Decision Tree :"
   ]
  },
  {
   "cell_type": "code",
   "execution_count": 29,
   "id": "559ec22a",
   "metadata": {},
   "outputs": [],
   "source": [
    "#Creating object 'dt' of DecisionTreeClassifier\n",
    "from sklearn.tree import DecisionTreeClassifier\n",
    "dt = DecisionTreeClassifier()"
   ]
  },
  {
   "cell_type": "code",
   "execution_count": 30,
   "id": "27414807",
   "metadata": {},
   "outputs": [
    {
     "name": "stdout",
     "output_type": "stream",
     "text": [
      "Accuracy: 71.00 %\n",
      "Standard Deviation: 1.21 %\n"
     ]
    }
   ],
   "source": [
    "#Applying k-fold cross validation\n",
    "accuracy_dt = cross_val_score(estimator=dt, X=X_train, y=y_train, cv=10, scoring='accuracy')\n",
    "print(\"Accuracy: {:.2f} %\".format(accuracy_dt.mean()*100))\n",
    "print(\"Standard Deviation: {:.2f} %\".format(accuracy_dt.std()*100))"
   ]
  },
  {
   "cell_type": "markdown",
   "id": "3a89a715",
   "metadata": {},
   "source": [
    "<font size = \"5\" ><span style= \"font-family:Altone Trial\">Random Forest :"
   ]
  },
  {
   "cell_type": "code",
   "execution_count": 31,
   "id": "7fe38afe",
   "metadata": {},
   "outputs": [],
   "source": [
    "#Creating object 'rf' of RandomForestClassifier\n",
    "from sklearn.ensemble import RandomForestClassifier\n",
    "rf = RandomForestClassifier(n_estimators = 100, random_state = 0)"
   ]
  },
  {
   "cell_type": "code",
   "execution_count": 32,
   "id": "0d16bc13",
   "metadata": {},
   "outputs": [
    {
     "name": "stdout",
     "output_type": "stream",
     "text": [
      "Accuracy: 83.82 %\n",
      "Standard Deviation: 0.63 %\n"
     ]
    }
   ],
   "source": [
    "#Applying k-fold cross validation\n",
    "accuracy_rf = cross_val_score(estimator=rf, X=X_train, y=y_train, cv=10, scoring='accuracy')\n",
    "print(\"Accuracy: {:.2f} %\".format(accuracy_rf.mean()*100))\n",
    "print(\"Standard Deviation: {:.2f} %\".format(accuracy_rf.std()*100))"
   ]
  },
  {
   "cell_type": "markdown",
   "id": "e18b5de1",
   "metadata": {},
   "source": [
    "***"
   ]
  },
  {
   "cell_type": "markdown",
   "id": "f4753915",
   "metadata": {},
   "source": [
    "<font size = \"5.5\" ><span style= \"font-family:Altone Trial\">5.1  Creating a Tf-Idf Model :"
   ]
  },
  {
   "cell_type": "markdown",
   "id": "aef212e0",
   "metadata": {},
   "source": [
    "<font size = \"5\" ><span style= \"font-family:Altone Trial\">Logistic Regression :"
   ]
  },
  {
   "cell_type": "code",
   "execution_count": 33,
   "id": "7f54a4f8",
   "metadata": {},
   "outputs": [],
   "source": [
    "#Creating object 'lr2' of LogisticRegression\n",
    "lr2 = LogisticRegression()"
   ]
  },
  {
   "cell_type": "code",
   "execution_count": 34,
   "id": "f1a7ce7a",
   "metadata": {},
   "outputs": [
    {
     "name": "stdout",
     "output_type": "stream",
     "text": [
      "Accuracy: 88.58 %\n",
      "Standard Deviation: 0.71 %\n"
     ]
    }
   ],
   "source": [
    "#Applying k-fold cross validation\n",
    "accuracy_lr2 = cross_val_score(estimator=lr2, X=X2_train, y=y2_train, cv=10, scoring='accuracy')\n",
    "print(\"Accuracy: {:.2f} %\".format(accuracy_lr2.mean()*100))\n",
    "print(\"Standard Deviation: {:.2f} %\".format(accuracy_lr2.std()*100))"
   ]
  },
  {
   "cell_type": "markdown",
   "id": "40a94f1a",
   "metadata": {},
   "source": [
    "<font size = \"5\" ><span style= \"font-family:Altone Trial\">Decision Tree :"
   ]
  },
  {
   "cell_type": "code",
   "execution_count": 37,
   "id": "0f043cbe",
   "metadata": {},
   "outputs": [],
   "source": [
    "#Creating object 'dt2' of DecisionTreeClassifier\n",
    "dt2 = DecisionTreeClassifier()"
   ]
  },
  {
   "cell_type": "code",
   "execution_count": 39,
   "id": "e30b36aa",
   "metadata": {},
   "outputs": [
    {
     "name": "stdout",
     "output_type": "stream",
     "text": [
      "Accuracy: 71.60 %\n",
      "Standard Deviation: 1.02 %\n"
     ]
    }
   ],
   "source": [
    "#Applying k-fold cross validation\n",
    "accuracy_dt2 = cross_val_score(estimator=dt2, X=X2_train, y=y2_train, cv=10, scoring='accuracy')\n",
    "print(\"Accuracy: {:.2f} %\".format(accuracy_dt2.mean()*100))\n",
    "print(\"Standard Deviation: {:.2f} %\".format(accuracy_dt2.std()*100))"
   ]
  },
  {
   "cell_type": "markdown",
   "id": "82645794",
   "metadata": {},
   "source": [
    "<font size = \"5\" ><span style= \"font-family:Altone Trial\">Random Forest :"
   ]
  },
  {
   "cell_type": "code",
   "execution_count": 40,
   "id": "dc434b45",
   "metadata": {},
   "outputs": [],
   "source": [
    "#Creating object 'rf2' of RandomForestClassifier\n",
    "rf2 = RandomForestClassifier(n_estimators = 100, random_state = 0)"
   ]
  },
  {
   "cell_type": "code",
   "execution_count": 42,
   "id": "97336bac",
   "metadata": {},
   "outputs": [
    {
     "name": "stdout",
     "output_type": "stream",
     "text": [
      "Accuracy: 84.50 %\n",
      "Standard Deviation: 0.60 %\n"
     ]
    }
   ],
   "source": [
    "#Applying k-fold cross validation\n",
    "accuracy_rf2 = cross_val_score(estimator=rf2, X=X2_train, y=y2_train, cv=10, scoring='accuracy')\n",
    "print(\"Accuracy: {:.2f} %\".format(accuracy_rf2.mean()*100))\n",
    "print(\"Standard Deviation: {:.2f} %\".format(accuracy_rf.std()*100))"
   ]
  },
  {
   "cell_type": "markdown",
   "id": "45d9571c",
   "metadata": {},
   "source": [
    "***"
   ]
  },
  {
   "cell_type": "markdown",
   "id": "b7ac6547",
   "metadata": {},
   "source": [
    "<font size = \"6.5\" ><span style= \"font-family:Altone Trial\">6. Model Evaluation</span></font>"
   ]
  },
  {
   "cell_type": "markdown",
   "id": "6b830c44",
   "metadata": {},
   "source": [
    "<font size = \"3\" ><span style= \"font-family:Altone Trial\">Since the Tf-Idf Logistic Regression model performs the best, it will be used to evaluate the model peformance against the test set."
   ]
  },
  {
   "cell_type": "markdown",
   "id": "8d8f1609",
   "metadata": {},
   "source": [
    "#Training the lr2 model on training set\n",
    "lr2.fit(X2_train, y2_train)"
   ]
  },
  {
   "cell_type": "code",
   "execution_count": 47,
   "id": "0454847a",
   "metadata": {},
   "outputs": [],
   "source": [
    "#Predicting the Test set results using \n",
    "y_pred = lr2.predict(X2_test)"
   ]
  },
  {
   "cell_type": "code",
   "execution_count": 48,
   "id": "8266273f",
   "metadata": {},
   "outputs": [],
   "source": [
    "#Evaluating model performance"
   ]
  },
  {
   "cell_type": "code",
   "execution_count": 49,
   "id": "c42c6c96",
   "metadata": {},
   "outputs": [
    {
     "data": {
      "image/png": "[encoded data removed]",
      "text/plain": [
       "<Figure size 432x432 with 1 Axes>"
      ]
     },
     "metadata": {},
     "output_type": "display_data"
    }
   ],
   "source": [
    "#Creating confusion matrix\n",
    "from sklearn.metrics import confusion_matrix\n",
    "cm = confusion_matrix(y2_test, y_pred)\n",
    "plt.figure(figsize=(6, 6))\n",
    "sns.heatmap(cm, annot=True, fmt='d', cmap='Oranges_r', cbar=False)\n",
    "plt.title('Confusion Matrix')\n",
    "plt.xlabel('Predicted Labels')\n",
    "plt.ylabel('True Labels')\n",
    "plt.show()"
   ]
  },
  {
   "cell_type": "code",
   "execution_count": 50,
   "id": "23666777",
   "metadata": {},
   "outputs": [
    {
     "name": "stdout",
     "output_type": "stream",
     "text": [
      "Accuracy: 88.62\n",
      "Precision: 87.60\n",
      "Recall: 89.95\n"
     ]
    }
   ],
   "source": [
    "#Calculating metrics\n",
    "from sklearn.metrics import accuracy_score, precision_score, recall_score\n",
    "accuracy = round(accuracy_score(y2_test, y_pred)* 100, 2)\n",
    "precision = round(precision_score(y2_test, y_pred)* 100, 2)\n",
    "recall = round(recall_score(y2_test, y_pred)* 100, 2)\n",
    "print(f\"Accuracy: {accuracy:.2f}\")\n",
    "print(f\"Precision: {precision:.2f}\")\n",
    "print(f\"Recall: {recall:.2f}\")"
   ]
  },
  {
   "cell_type": "markdown",
   "id": "2757bb2d",
   "metadata": {},
   "source": [
    "<font size = \"5\" ><span style= \"font-family:Altone Trial\">Saving model artificats for deployment purposes  :"
   ]
  },
  {
   "cell_type": "code",
   "execution_count": 51,
   "id": "2278db4a",
   "metadata": {},
   "outputs": [],
   "source": [
    "#Pickling necessary python objects\n",
    "import pickle"
   ]
  },
  {
   "cell_type": "code",
   "execution_count": 52,
   "id": "fe3ea298",
   "metadata": {},
   "outputs": [],
   "source": [
    "#Pickling Tf-Idf Logistic Regression model\n",
    "with open(r'C:\\Users\\aashi\\OneDrive\\Desktop\\Portfolio\\Sentiment Analysis - Natural Language Processing\\model artifacts\\lr2.pkl', 'wb') as model_pkl:\n",
    "    pickle.dump(lr2, model_pkl)"
   ]
  },
  {
   "cell_type": "code",
   "execution_count": 53,
   "id": "9d25feae",
   "metadata": {},
   "outputs": [],
   "source": [
    "#Pickling the Tf-Idf object\n",
    "with open(r'C:\\Users\\aashi\\OneDrive\\Desktop\\Portfolio\\Sentiment Analysis - Natural Language Processing\\model artifacts\\tfidf.pkl', 'wb') as tfidf_pkl:\n",
    "    pickle.dump(tfidf, tfidf_pkl)"
   ]
  },
  {
   "cell_type": "markdown",
   "id": "358f9648",
   "metadata": {},
   "source": [
    "***"
   ]
  },
  {
   "cell_type": "markdown",
   "id": "a00600da",
   "metadata": {},
   "source": [
    "<font size = \"5\" ><span style= \"font-family:Altone Trial\">The End"
   ]
  }
 ],
 "metadata": {
  "kernelspec": {
   "display_name": "Python 3 (ipykernel)",
   "language": "python",
   "name": "python3"
  },
  "language_info": {
   "codemirror_mode": {
    "name": "ipython",
    "version": 3
   },
   "file_extension": ".py",
   "mimetype": "text/x-python",
   "name": "python",
   "nbconvert_exporter": "python",
   "pygments_lexer": "ipython3",
   "version": "3.9.12"
  }
 },
 "nbformat": 4,
 "nbformat_minor": 5
}
